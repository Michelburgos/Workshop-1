{
 "cells": [
  {
   "cell_type": "markdown",
   "metadata": {},
   "source": [
    "# EDA"
   ]
  },
  {
   "cell_type": "code",
   "execution_count": 1,
   "metadata": {},
   "outputs": [],
   "source": [
    "import sys\n",
    "import os\n",
    "import pandas as pd \n",
    "import numpy as np\n",
    "import seaborn as sns\n",
    "import matplotlib.pyplot as plt"
   ]
  },
  {
   "cell_type": "code",
   "execution_count": 2,
   "metadata": {},
   "outputs": [
    {
     "name": "stdout",
     "output_type": "stream",
     "text": [
      "✅ Conexión a la base de datos exitosa.\n"
     ]
    }
   ],
   "source": [
    "sys.path.append(os.path.abspath('../source'))\n",
    "\n",
    "from connection_mysql import get_sqlalchemy_engine\n",
    "\n",
    "conexion = get_sqlalchemy_engine()"
   ]
  },
  {
   "cell_type": "code",
   "execution_count": 4,
   "metadata": {},
   "outputs": [
    {
     "name": "stdout",
     "output_type": "stream",
     "text": [
      "   id  first_name   last_name                      email  country  \\\n",
      "0   1  Bernadette   Langworth        leonard91@yahoo.com   Norway   \n",
      "1   2      Camryn    Reynolds        zelda56@hotmail.com   Panama   \n",
      "2   3       Larue      Spinka   okey_schultz41@gmail.com  Belarus   \n",
      "3   4        Arch      Spinka     elvera_kulas@yahoo.com  Eritrea   \n",
      "4   5       Larue  Altenwerth  minnie.gislason@gmail.com  Myanmar   \n",
      "\n",
      "  application_date  yoe  seniority                         technology  \\\n",
      "0       2021-02-26    2     Intern                      Data Engineer   \n",
      "1       2021-09-09   10     Intern                      Data Engineer   \n",
      "2       2020-04-14    4  Mid-Level                     Client Success   \n",
      "3       2020-10-01   25    Trainee                          QA Manual   \n",
      "4       2020-05-20   13  Mid-Level  Social Media Community Management   \n",
      "\n",
      "   code_challenge_score  technical_interview_score  \n",
      "0                   3.0                        3.0  \n",
      "1                   2.0                       10.0  \n",
      "2                  10.0                        9.0  \n",
      "3                   7.0                        1.0  \n",
      "4                   9.0                        7.0  \n"
     ]
    }
   ],
   "source": [
    "df = pd.read_sql_query(\"SELECT * FROM raw_candidates\", conexion)\n",
    "print(df.head())"
   ]
  },
  {
   "cell_type": "code",
   "execution_count": null,
   "metadata": {},
   "outputs": [],
   "source": []
  }
 ],
 "metadata": {
  "kernelspec": {
   "display_name": "venv",
   "language": "python",
   "name": "python3"
  },
  "language_info": {
   "codemirror_mode": {
    "name": "ipython",
    "version": 3
   },
   "file_extension": ".py",
   "mimetype": "text/x-python",
   "name": "python",
   "nbconvert_exporter": "python",
   "pygments_lexer": "ipython3",
   "version": "3.11.4"
  }
 },
 "nbformat": 4,
 "nbformat_minor": 2
}
