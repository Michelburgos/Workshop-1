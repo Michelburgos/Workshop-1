{
 "cells": [
  {
   "cell_type": "code",
   "execution_count": 24,
   "metadata": {},
   "outputs": [
    {
     "name": "stdout",
     "output_type": "stream",
     "text": [
      "Error: 2017 (HY000): Can't open named pipe to host: .  pipe: MySQL (2)\n",
      "No se pudo establecer la conexión a la base de datos.\n"
     ]
    }
   ],
   "source": [
    "# Importar bibliotecas\n",
    "import sys\n",
    "import mysql.connector\n",
    "\n",
    "sys.path.append('../source')  # Ajusta la ruta si es necesario\n",
    "\n",
    "from connection_mysql import get_connection\n",
    "\n",
    "# Obtener la conexión a la base de datos\n",
    "conexion = get_connection()\n",
    "\n",
    "if conexion:\n",
    "    cursor = conexion.cursor()\n",
    "\n",
    "    # Crear la tabla raw_candidates (si no existe)\n",
    "    create_table_query = \"\"\"\n",
    "    CREATE TABLE IF NOT EXISTS raw_candidates (\n",
    "        id INT AUTO_INCREMENT PRIMARY KEY,\n",
    "        first_name VARCHAR(100),\n",
    "        last_name VARCHAR(100),\n",
    "        email VARCHAR(100),\n",
    "        country VARCHAR(100),\n",
    "        application_date DATE,\n",
    "        yoe INT,\n",
    "        seniority VARCHAR(100),\n",
    "        technology VARCHAR(100),\n",
    "        code_challenge_score FLOAT,\n",
    "        technical_interview_score FLOAT\n",
    "    );\n",
    "    \"\"\"\n",
    "    cursor.execute(create_table_query)\n",
    "    conexion.commit()\n",
    "\n",
    "    # Cerrar la conexión\n",
    "    cursor.close()\n",
    "    conexion.close()\n",
    "\n",
    "    print(\"Tabla 'raw_candidates' creada exitosamente.\")\n",
    "else:\n",
    "    print(\"No se pudo establecer la conexión a la base de datos.\")\n"
   ]
  },
  {
   "cell_type": "code",
   "execution_count": 8,
   "metadata": {},
   "outputs": [
    {
     "name": "stdout",
     "output_type": "stream",
     "text": [
      "✅ Conexión exitosa desde notebook\n",
      "Versión de MySQL: 8.0.36\n",
      "🔌 Conexión cerrada.\n"
     ]
    }
   ],
   "source": [
    "import mysql.connector\n",
    "\n",
    "try:\n",
    "    conexion = mysql.connector.connect(\n",
    "        user=\"root\",\n",
    "        password=\"root\",\n",
    "        host=\"localhost\",\n",
    "        port=3305,\n",
    "        database=\"candidates_db\"\n",
    "    )\n",
    "\n",
    "    if conexion.is_connected():\n",
    "        print(\"✅ Conexión exitosa desde notebook\")\n",
    "        print(\"Versión de MySQL:\", conexion.get_server_info())\n",
    "\n",
    "except mysql.connector.Error as err:\n",
    "    print(\"❌ Error al conectar:\", err)\n",
    "\n",
    "finally:\n",
    "    if 'conexion' in locals() and conexion.is_connected():\n",
    "        conexion.close()\n",
    "        print(\"🔌 Conexión cerrada.\")\n"
   ]
  },
  {
   "cell_type": "code",
   "execution_count": 15,
   "metadata": {},
   "outputs": [
    {
     "name": "stdout",
     "output_type": "stream",
     "text": [
      "Error: 2017 (HY000): Can't open named pipe to host: .  pipe: MySQL (2)\n",
      "❌ Error: get_connection() devolvió None. Revisa la configuración.\n"
     ]
    }
   ],
   "source": [
    "import sys\n",
    "sys.path.append(\"C:/Users/Michel Burgos/OneDrive/Documentos/GitHub/Workshop-1/source\")\n",
    "\n",
    "from connection_mysql import get_connection\n",
    "\n",
    "try:\n",
    "    conexion = get_connection()\n",
    "    \n",
    "    if conexion is None:\n",
    "        print(\"❌ Error: get_connection() devolvió None. Revisa la configuración.\")\n",
    "    else:\n",
    "        print(\"✅ Conexión exitosa con get_connection desde el notebook\")\n",
    "        print(\"Versión de MySQL:\", conexion.get_server_info())\n",
    "\n",
    "except Exception as err:\n",
    "    print(f\"❌ Error inesperado: {err}\")\n",
    "\n",
    "finally:\n",
    "    if conexion and conexion.is_connected():\n",
    "        conexion.close()\n",
    "        print(\"🔌 Conexión cerrada.\")\n",
    "\n"
   ]
  },
  {
   "cell_type": "code",
   "execution_count": 23,
   "metadata": {},
   "outputs": [
    {
     "name": "stdout",
     "output_type": "stream",
     "text": [
      "✅ Conexión exitosa a MySQL en el notebook\n",
      "Versión de MySQL: 8.0.36\n",
      "🔌 Conexión cerrada.\n"
     ]
    }
   ],
   "source": [
    "import mysql.connector\n",
    "\n",
    "try:\n",
    "    conexion = mysql.connector.connect(\n",
    "        user=\"root\",\n",
    "        password=\"root\",\n",
    "        host=\"127.0.0.1\",  # ⚠️ Usa 127.0.0.1 en vez de localhost\n",
    "        port=3305,\n",
    "        database=\"candidates_db\",\n",
    "        use_pure=True\n",
    "    )\n",
    "\n",
    "    if conexion.is_connected():\n",
    "        print(\"✅ Conexión exitosa a MySQL en el notebook\")\n",
    "        print(\"Versión de MySQL:\", conexion.get_server_info())\n",
    "\n",
    "except mysql.connector.Error as err:\n",
    "    print(f\"❌ Error: {err}\")\n",
    "\n",
    "finally:\n",
    "    if 'conexion' in locals() and conexion.is_connected():\n",
    "        conexion.close()\n",
    "        print(\"🔌 Conexión cerrada.\")\n"
   ]
  },
  {
   "cell_type": "code",
   "execution_count": 26,
   "metadata": {},
   "outputs": [
    {
     "name": "stdout",
     "output_type": "stream",
     "text": [
      "Error: 2017 (HY000): Can't open named pipe to host: .  pipe: MySQL (2)\n",
      "❌ No se pudo establecer la conexión a la base de datos.\n"
     ]
    }
   ],
   "source": [
    "import sys\n",
    "sys.path.append('../source')  # Agrega la carpeta source al path\n",
    "\n",
    "from connection_mysql import get_connection\n",
    "\n",
    "# Obtener la conexión\n",
    "conexion = get_connection()\n",
    "\n",
    "# Verificar si la conexión se estableció correctamente\n",
    "if conexion:\n",
    "    print(\"✅ Conexión exitosa desde notebook\")\n",
    "    print(\"Versión de MySQL:\", conexion.get_server_info())\n",
    "    \n",
    "    # Cerrar la conexión\n",
    "    conexion.close()\n",
    "    print(\"🔌 Conexión cerrada.\")\n",
    "else:\n",
    "    print(\"❌ No se pudo establecer la conexión a la base de datos.\")"
   ]
  },
  {
   "cell_type": "code",
   "execution_count": 1,
   "metadata": {},
   "outputs": [
    {
     "ename": "TypeError",
     "evalue": "int() argument must be a string, a bytes-like object or a real number, not 'NoneType'",
     "output_type": "error",
     "traceback": [
      "\u001b[1;31m---------------------------------------------------------------------------\u001b[0m",
      "\u001b[1;31mTypeError\u001b[0m                                 Traceback (most recent call last)",
      "Cell \u001b[1;32mIn[1], line 7\u001b[0m\n\u001b[0;32m      4\u001b[0m \u001b[38;5;28;01mfrom\u001b[39;00m\u001b[38;5;250m \u001b[39m\u001b[38;5;21;01mconnection_mysql\u001b[39;00m\u001b[38;5;250m \u001b[39m\u001b[38;5;28;01mimport\u001b[39;00m get_connection\n\u001b[0;32m      6\u001b[0m \u001b[38;5;66;03m# Obtener la conexión\u001b[39;00m\n\u001b[1;32m----> 7\u001b[0m conexion \u001b[38;5;241m=\u001b[39m \u001b[43mget_connection\u001b[49m\u001b[43m(\u001b[49m\u001b[43m)\u001b[49m\n\u001b[0;32m      9\u001b[0m \u001b[38;5;66;03m# Verificar si la conexión se estableció correctamente\u001b[39;00m\n\u001b[0;32m     10\u001b[0m \u001b[38;5;28;01mif\u001b[39;00m conexion:\n",
      "File \u001b[1;32mc:\\Users\\Michel Burgos\\OneDrive\\Documentos\\GitHub\\Workshop-1\\notebooks\\../source\\connection_mysql.py:25\u001b[0m, in \u001b[0;36mget_connection\u001b[1;34m()\u001b[0m\n\u001b[0;32m     16\u001b[0m \u001b[38;5;250m\u001b[39m\u001b[38;5;124;03m\"\"\"\u001b[39;00m\n\u001b[0;32m     17\u001b[0m \u001b[38;5;124;03mEstablece y retorna una conexión a la base de datos MySQL.\u001b[39;00m\n\u001b[0;32m     18\u001b[0m \u001b[38;5;124;03m\"\"\"\u001b[39;00m\n\u001b[0;32m     19\u001b[0m \u001b[38;5;28;01mtry\u001b[39;00m:\n\u001b[0;32m     20\u001b[0m     conexion \u001b[38;5;241m=\u001b[39m mysql\u001b[38;5;241m.\u001b[39mconnector\u001b[38;5;241m.\u001b[39mconnect(\n\u001b[0;32m     21\u001b[0m         user\u001b[38;5;241m=\u001b[39mdb_user,\n\u001b[0;32m     22\u001b[0m         password\u001b[38;5;241m=\u001b[39mdb_password,\n\u001b[0;32m     23\u001b[0m         host\u001b[38;5;241m=\u001b[39mdb_host,\n\u001b[0;32m     24\u001b[0m         database\u001b[38;5;241m=\u001b[39mdb_name,\n\u001b[1;32m---> 25\u001b[0m         port\u001b[38;5;241m=\u001b[39m\u001b[38;5;28;43mint\u001b[39;49m\u001b[43m(\u001b[49m\u001b[43mdb_port\u001b[49m\u001b[43m)\u001b[49m,\n\u001b[0;32m     26\u001b[0m         use_pure\u001b[38;5;241m=\u001b[39m\u001b[38;5;28;01mTrue\u001b[39;00m  \u001b[38;5;66;03m# Forzar el uso de TCP/IP\u001b[39;00m\n\u001b[0;32m     27\u001b[0m     )\n\u001b[0;32m     29\u001b[0m     \u001b[38;5;28;01mif\u001b[39;00m conexion\u001b[38;5;241m.\u001b[39mis_connected():\n\u001b[0;32m     30\u001b[0m         \u001b[38;5;28mprint\u001b[39m(\u001b[38;5;124m\"\u001b[39m\u001b[38;5;124m✅ Conexión a la base de datos exitosa.\u001b[39m\u001b[38;5;124m\"\u001b[39m)\n",
      "\u001b[1;31mTypeError\u001b[0m: int() argument must be a string, a bytes-like object or a real number, not 'NoneType'"
     ]
    }
   ],
   "source": [
    "import sys\n",
    "sys.path.append('../source')  # Agrega la carpeta source al path\n",
    "\n",
    "from connection_mysql import get_connection\n",
    "\n",
    "# Obtener la conexión\n",
    "conexion = get_connection()\n",
    "\n",
    "# Verificar si la conexión se estableció correctamente\n",
    "if conexion:\n",
    "    print(\"✅ Conexión exitosa desde notebook\")\n",
    "    print(\"Versión de MySQL:\", conexion.get_server_info())\n",
    "    \n",
    "    # Cerrar la conexión\n",
    "    conexion.close()\n",
    "    print(\"🔌 Conexión cerrada.\")\n",
    "else:\n",
    "    print(\"❌ No se pudo establecer la conexión a la base de datos.\")"
   ]
  },
  {
   "cell_type": "code",
   "execution_count": 22,
   "metadata": {},
   "outputs": [
    {
     "name": "stdout",
     "output_type": "stream",
     "text": [
      "Error: 2017 (HY000): Can't open named pipe to host: .  pipe: MySQL (2)\n",
      "No se pudo establecer la conexión a la base de datos.\n"
     ]
    }
   ],
   "source": [
    "import sys\n",
    "sys.path.append('../source')  # Agrega la carpeta source al path\n",
    "\n",
    "from connection_mysql import get_connection\n",
    "\n",
    "# Obtener la conexión\n",
    "conexion = get_connection()\n",
    "\n",
    "# Verificar si la conexión se estableció correctamente\n",
    "if conexion:\n",
    "    print(\"Conexión exitosa.\")\n",
    "    # Realizar operaciones con la base de datos\n",
    "    cursor = conexion.cursor()\n",
    "    cursor.execute(\"SELECT VERSION()\")\n",
    "    version = cursor.fetchone()\n",
    "    print(f\"Versión de MySQL: {version[0]}\")\n",
    "    \n",
    "    # Cerrar la conexión\n",
    "    cursor.close()\n",
    "    conexion.close()\n",
    "    print(\"Conexión cerrada.\")\n",
    "else:\n",
    "    print(\"No se pudo establecer la conexión a la base de datos.\")"
   ]
  },
  {
   "cell_type": "code",
   "execution_count": 21,
   "metadata": {},
   "outputs": [
    {
     "name": "stdout",
     "output_type": "stream",
     "text": [
      "Error: 2017 (HY000): Can't open named pipe to host: .  pipe: MySQL (2)\n",
      "No se pudo establecer la conexión a la base de datos.\n"
     ]
    }
   ],
   "source": [
    "import sys\n",
    "sys.path.append('../source')  # Agrega la carpeta source al path\n",
    "\n",
    "from connection_mysql import get_connection\n",
    "\n",
    "# Obtener la conexión\n",
    "conexion = get_connection()\n",
    "\n",
    "# Verificar si la conexión se estableció correctamente\n",
    "if conexion:\n",
    "    print(\"Conexión exitosa.\")\n",
    "    # Realizar operaciones con la base de datos\n",
    "    cursor = conexion.cursor()\n",
    "    cursor.execute(\"SELECT VERSION()\")\n",
    "    version = cursor.fetchone()\n",
    "    print(f\"Versión de MySQL: {version[0]}\")\n",
    "    \n",
    "    # Cerrar la conexión\n",
    "    cursor.close()\n",
    "    conexion.close()\n",
    "    print(\"Conexión cerrada.\")\n",
    "else:\n",
    "    print(\"No se pudo establecer la conexión a la base de datos.\")"
   ]
  },
  {
   "cell_type": "code",
   "execution_count": 7,
   "metadata": {},
   "outputs": [
    {
     "name": "stdout",
     "output_type": "stream",
     "text": [
      "Usuario: root\n",
      "Host: localhost\n",
      "Puerto: 3305\n",
      "Base de datos: candidates_db\n"
     ]
    }
   ],
   "source": [
    "from dotenv import load_dotenv\n",
    "import os\n",
    "\n",
    "load_dotenv('credential.env')\n",
    "\n",
    "print(\"Usuario:\", os.getenv(\"DB_USER\"))\n",
    "print(\"Host:\", os.getenv(\"DB_HOST\"))\n",
    "print(\"Puerto:\", os.getenv(\"DB_PORT\"))\n",
    "print(\"Base de datos:\", os.getenv(\"DB_NAME\"))\n",
    "\n"
   ]
  },
  {
   "cell_type": "code",
   "execution_count": 11,
   "metadata": {},
   "outputs": [
    {
     "name": "stdout",
     "output_type": "stream",
     "text": [
      "   First Name   Last Name                      Email Application Date  \\\n",
      "0  Bernadette   Langworth        leonard91@yahoo.com       2021-02-26   \n",
      "1      Camryn    Reynolds        zelda56@hotmail.com       2021-09-09   \n",
      "2       Larue      Spinka   okey_schultz41@gmail.com       2020-04-14   \n",
      "3        Arch      Spinka     elvera_kulas@yahoo.com       2020-10-01   \n",
      "4       Larue  Altenwerth  minnie.gislason@gmail.com       2020-05-20   \n",
      "\n",
      "   Country  YOE  Seniority                         Technology  \\\n",
      "0   Norway    2     Intern                      Data Engineer   \n",
      "1   Panama   10     Intern                      Data Engineer   \n",
      "2  Belarus    4  Mid-Level                     Client Success   \n",
      "3  Eritrea   25    Trainee                          QA Manual   \n",
      "4  Myanmar   13  Mid-Level  Social Media Community Management   \n",
      "\n",
      "   Code Challenge Score  Technical Interview Score  \n",
      "0                     3                          3  \n",
      "1                     2                         10  \n",
      "2                    10                          9  \n",
      "3                     7                          1  \n",
      "4                     9                          7  \n"
     ]
    }
   ],
   "source": [
    "import pandas as pd\n",
    "df = pd.read_csv('../data/candidates.csv', sep=';')\n",
    "print(df.head())  # Verifica que las columnas se cargan correctamente\n",
    "\n"
   ]
  },
  {
   "cell_type": "code",
   "execution_count": 12,
   "metadata": {},
   "outputs": [
    {
     "name": "stdout",
     "output_type": "stream",
     "text": [
      "Index(['First Name', 'Last Name', 'Email', 'Application Date', 'Country',\n",
      "       'YOE', 'Seniority', 'Technology', 'Code Challenge Score',\n",
      "       'Technical Interview Score'],\n",
      "      dtype='object')\n"
     ]
    }
   ],
   "source": [
    "print(df.columns)\n"
   ]
  },
  {
   "cell_type": "code",
   "execution_count": 13,
   "metadata": {},
   "outputs": [
    {
     "name": "stdout",
     "output_type": "stream",
     "text": [
      "   First Name   Last Name                      Email Application Date  \\\n",
      "0  Bernadette   Langworth        leonard91@yahoo.com       2021-02-26   \n",
      "1      Camryn    Reynolds        zelda56@hotmail.com       2021-09-09   \n",
      "2       Larue      Spinka   okey_schultz41@gmail.com       2020-04-14   \n",
      "3        Arch      Spinka     elvera_kulas@yahoo.com       2020-10-01   \n",
      "4       Larue  Altenwerth  minnie.gislason@gmail.com       2020-05-20   \n",
      "\n",
      "   Country  YOE  Seniority                         Technology  \\\n",
      "0   Norway    2     Intern                      Data Engineer   \n",
      "1   Panama   10     Intern                      Data Engineer   \n",
      "2  Belarus    4  Mid-Level                     Client Success   \n",
      "3  Eritrea   25    Trainee                          QA Manual   \n",
      "4  Myanmar   13  Mid-Level  Social Media Community Management   \n",
      "\n",
      "   Code Challenge Score  Technical Interview Score  \n",
      "0                     3                          3  \n",
      "1                     2                         10  \n",
      "2                    10                          9  \n",
      "3                     7                          1  \n",
      "4                     9                          7  \n",
      "Conexión a la base de datos exitosa.\n"
     ]
    },
    {
     "ename": "DataError",
     "evalue": "1406 (22001): Data too long for column 'country' at row 1",
     "output_type": "error",
     "traceback": [
      "\u001b[1;31m---------------------------------------------------------------------------\u001b[0m",
      "\u001b[1;31mMySQLInterfaceError\u001b[0m                       Traceback (most recent call last)",
      "File \u001b[1;32mc:\\Users\\Michel Burgos\\OneDrive\\Documentos\\GitHub\\Workshop-1\\venv\\Lib\\site-packages\\mysql\\connector\\connection_cext.py:755\u001b[0m, in \u001b[0;36mCMySQLConnection.cmd_query\u001b[1;34m(self, query, raw, buffered, raw_as_string, **kwargs)\u001b[0m\n\u001b[0;32m    754\u001b[0m         query \u001b[38;5;241m=\u001b[39m query\u001b[38;5;241m.\u001b[39mencode(\u001b[38;5;124m\"\u001b[39m\u001b[38;5;124mutf-8\u001b[39m\u001b[38;5;124m\"\u001b[39m)\n\u001b[1;32m--> 755\u001b[0m     \u001b[38;5;28;43mself\u001b[39;49m\u001b[38;5;241;43m.\u001b[39;49m\u001b[43m_cmysql\u001b[49m\u001b[38;5;241;43m.\u001b[39;49m\u001b[43mquery\u001b[49m\u001b[43m(\u001b[49m\n\u001b[0;32m    756\u001b[0m \u001b[43m        \u001b[49m\u001b[43mquery\u001b[49m\u001b[43m,\u001b[49m\n\u001b[0;32m    757\u001b[0m \u001b[43m        \u001b[49m\u001b[43mraw\u001b[49m\u001b[38;5;241;43m=\u001b[39;49m\u001b[43mraw\u001b[49m\u001b[43m,\u001b[49m\n\u001b[0;32m    758\u001b[0m \u001b[43m        \u001b[49m\u001b[43mbuffered\u001b[49m\u001b[38;5;241;43m=\u001b[39;49m\u001b[43mbuffered\u001b[49m\u001b[43m,\u001b[49m\n\u001b[0;32m    759\u001b[0m \u001b[43m        \u001b[49m\u001b[43mraw_as_string\u001b[49m\u001b[38;5;241;43m=\u001b[39;49m\u001b[43mraw_as_string\u001b[49m\u001b[43m,\u001b[49m\n\u001b[0;32m    760\u001b[0m \u001b[43m        \u001b[49m\u001b[43mquery_attrs\u001b[49m\u001b[38;5;241;43m=\u001b[39;49m\u001b[38;5;28;43mself\u001b[39;49m\u001b[38;5;241;43m.\u001b[39;49m\u001b[43mquery_attrs\u001b[49m\u001b[43m,\u001b[49m\n\u001b[0;32m    761\u001b[0m \u001b[43m    \u001b[49m\u001b[43m)\u001b[49m\n\u001b[0;32m    762\u001b[0m \u001b[38;5;28;01mexcept\u001b[39;00m MySQLInterfaceError \u001b[38;5;28;01mas\u001b[39;00m err:\n",
      "\u001b[1;31mMySQLInterfaceError\u001b[0m: Data too long for column 'country' at row 1",
      "\nThe above exception was the direct cause of the following exception:\n",
      "\u001b[1;31mDataError\u001b[0m                                 Traceback (most recent call last)",
      "Cell \u001b[1;32mIn[13], line 35\u001b[0m\n\u001b[0;32m     28\u001b[0m \u001b[38;5;28;01mfor\u001b[39;00m _, row \u001b[38;5;129;01min\u001b[39;00m df\u001b[38;5;241m.\u001b[39miterrows():\n\u001b[0;32m     29\u001b[0m     valores \u001b[38;5;241m=\u001b[39m (\n\u001b[0;32m     30\u001b[0m         row[\u001b[38;5;124m'\u001b[39m\u001b[38;5;124mFirst Name\u001b[39m\u001b[38;5;124m'\u001b[39m], row[\u001b[38;5;124m'\u001b[39m\u001b[38;5;124mLast Name\u001b[39m\u001b[38;5;124m'\u001b[39m], row[\u001b[38;5;124m'\u001b[39m\u001b[38;5;124mEmail\u001b[39m\u001b[38;5;124m'\u001b[39m], row[\u001b[38;5;124m'\u001b[39m\u001b[38;5;124mCountry\u001b[39m\u001b[38;5;124m'\u001b[39m],\n\u001b[0;32m     31\u001b[0m         row[\u001b[38;5;124m'\u001b[39m\u001b[38;5;124mApplication Date\u001b[39m\u001b[38;5;124m'\u001b[39m], row[\u001b[38;5;124m'\u001b[39m\u001b[38;5;124mYOE\u001b[39m\u001b[38;5;124m'\u001b[39m], row[\u001b[38;5;124m'\u001b[39m\u001b[38;5;124mSeniority\u001b[39m\u001b[38;5;124m'\u001b[39m], row[\u001b[38;5;124m'\u001b[39m\u001b[38;5;124mTechnology\u001b[39m\u001b[38;5;124m'\u001b[39m],\n\u001b[0;32m     32\u001b[0m         row[\u001b[38;5;124m'\u001b[39m\u001b[38;5;124mCode Challenge Score\u001b[39m\u001b[38;5;124m'\u001b[39m], row[\u001b[38;5;124m'\u001b[39m\u001b[38;5;124mTechnical Interview Score\u001b[39m\u001b[38;5;124m'\u001b[39m]\n\u001b[0;32m     33\u001b[0m     )\n\u001b[1;32m---> 35\u001b[0m     \u001b[43mcursor\u001b[49m\u001b[38;5;241;43m.\u001b[39;49m\u001b[43mexecute\u001b[49m\u001b[43m(\u001b[49m\u001b[43minsert_query\u001b[49m\u001b[43m,\u001b[49m\u001b[43m \u001b[49m\u001b[43mvalores\u001b[49m\u001b[43m)\u001b[49m\n\u001b[0;32m     37\u001b[0m \u001b[38;5;66;03m# Confirmar la transacción\u001b[39;00m\n\u001b[0;32m     38\u001b[0m conexion\u001b[38;5;241m.\u001b[39mcommit()\n",
      "File \u001b[1;32mc:\\Users\\Michel Burgos\\OneDrive\\Documentos\\GitHub\\Workshop-1\\venv\\Lib\\site-packages\\mysql\\connector\\cursor_cext.py:351\u001b[0m, in \u001b[0;36mCMySQLCursor.execute\u001b[1;34m(self, operation, params, map_results)\u001b[0m\n\u001b[0;32m    343\u001b[0m \u001b[38;5;28mself\u001b[39m\u001b[38;5;241m.\u001b[39m_executed \u001b[38;5;241m=\u001b[39m (\n\u001b[0;32m    344\u001b[0m     \u001b[38;5;28mself\u001b[39m\u001b[38;5;241m.\u001b[39m_stmt_partition[\u001b[38;5;124m\"\u001b[39m\u001b[38;5;124msingle_stmts\u001b[39m\u001b[38;5;124m\"\u001b[39m]\u001b[38;5;241m.\u001b[39mpopleft()\n\u001b[0;32m    345\u001b[0m     \u001b[38;5;28;01mif\u001b[39;00m map_results\n\u001b[0;32m    346\u001b[0m     \u001b[38;5;28;01melse\u001b[39;00m \u001b[38;5;28mself\u001b[39m\u001b[38;5;241m.\u001b[39m_stmt_partition[\u001b[38;5;124m\"\u001b[39m\u001b[38;5;124mmappable_stmt\u001b[39m\u001b[38;5;124m\"\u001b[39m]\n\u001b[0;32m    347\u001b[0m )\n\u001b[0;32m    349\u001b[0m \u001b[38;5;28;01mtry\u001b[39;00m:\n\u001b[0;32m    350\u001b[0m     \u001b[38;5;28mself\u001b[39m\u001b[38;5;241m.\u001b[39m_handle_result(\n\u001b[1;32m--> 351\u001b[0m         \u001b[38;5;28;43mself\u001b[39;49m\u001b[38;5;241;43m.\u001b[39;49m\u001b[43m_connection\u001b[49m\u001b[38;5;241;43m.\u001b[39;49m\u001b[43mcmd_query\u001b[49m\u001b[43m(\u001b[49m\n\u001b[0;32m    352\u001b[0m \u001b[43m            \u001b[49m\u001b[38;5;28;43mself\u001b[39;49m\u001b[38;5;241;43m.\u001b[39;49m\u001b[43m_stmt_partition\u001b[49m\u001b[43m[\u001b[49m\u001b[38;5;124;43m\"\u001b[39;49m\u001b[38;5;124;43mmappable_stmt\u001b[39;49m\u001b[38;5;124;43m\"\u001b[39;49m\u001b[43m]\u001b[49m\u001b[43m,\u001b[49m\n\u001b[0;32m    353\u001b[0m \u001b[43m            \u001b[49m\u001b[43mraw\u001b[49m\u001b[38;5;241;43m=\u001b[39;49m\u001b[38;5;28;43mself\u001b[39;49m\u001b[38;5;241;43m.\u001b[39;49m\u001b[43m_raw\u001b[49m\u001b[43m,\u001b[49m\n\u001b[0;32m    354\u001b[0m \u001b[43m            \u001b[49m\u001b[43mbuffered\u001b[49m\u001b[38;5;241;43m=\u001b[39;49m\u001b[38;5;28;43mself\u001b[39;49m\u001b[38;5;241;43m.\u001b[39;49m\u001b[43m_buffered\u001b[49m\u001b[43m,\u001b[49m\n\u001b[0;32m    355\u001b[0m \u001b[43m            \u001b[49m\u001b[43mraw_as_string\u001b[49m\u001b[38;5;241;43m=\u001b[39;49m\u001b[38;5;28;43mself\u001b[39;49m\u001b[38;5;241;43m.\u001b[39;49m\u001b[43m_raw_as_string\u001b[49m\u001b[43m,\u001b[49m\n\u001b[0;32m    356\u001b[0m \u001b[43m        \u001b[49m\u001b[43m)\u001b[49m\n\u001b[0;32m    357\u001b[0m     )\n\u001b[0;32m    358\u001b[0m \u001b[38;5;28;01mexcept\u001b[39;00m MySQLInterfaceError \u001b[38;5;28;01mas\u001b[39;00m err:\n\u001b[0;32m    359\u001b[0m     \u001b[38;5;28;01mraise\u001b[39;00m get_mysql_exception(\n\u001b[0;32m    360\u001b[0m         msg\u001b[38;5;241m=\u001b[39merr\u001b[38;5;241m.\u001b[39mmsg, errno\u001b[38;5;241m=\u001b[39merr\u001b[38;5;241m.\u001b[39merrno, sqlstate\u001b[38;5;241m=\u001b[39merr\u001b[38;5;241m.\u001b[39msqlstate\n\u001b[0;32m    361\u001b[0m     ) \u001b[38;5;28;01mfrom\u001b[39;00m\u001b[38;5;250m \u001b[39m\u001b[38;5;21;01merr\u001b[39;00m\n",
      "File \u001b[1;32mc:\\Users\\Michel Burgos\\OneDrive\\Documentos\\GitHub\\Workshop-1\\venv\\Lib\\site-packages\\mysql\\connector\\opentelemetry\\context_propagation.py:97\u001b[0m, in \u001b[0;36mwith_context_propagation.<locals>.wrapper\u001b[1;34m(cnx, *args, **kwargs)\u001b[0m\n\u001b[0;32m     95\u001b[0m \u001b[38;5;66;03m# pylint: disable=possibly-used-before-assignment\u001b[39;00m\n\u001b[0;32m     96\u001b[0m \u001b[38;5;28;01mif\u001b[39;00m \u001b[38;5;129;01mnot\u001b[39;00m OTEL_ENABLED \u001b[38;5;129;01mor\u001b[39;00m \u001b[38;5;129;01mnot\u001b[39;00m cnx\u001b[38;5;241m.\u001b[39motel_context_propagation:\n\u001b[1;32m---> 97\u001b[0m     \u001b[38;5;28;01mreturn\u001b[39;00m \u001b[43mmethod\u001b[49m\u001b[43m(\u001b[49m\u001b[43mcnx\u001b[49m\u001b[43m,\u001b[49m\u001b[43m \u001b[49m\u001b[38;5;241;43m*\u001b[39;49m\u001b[43margs\u001b[49m\u001b[43m,\u001b[49m\u001b[43m \u001b[49m\u001b[38;5;241;43m*\u001b[39;49m\u001b[38;5;241;43m*\u001b[39;49m\u001b[43mkwargs\u001b[49m\u001b[43m)\u001b[49m\n\u001b[0;32m     99\u001b[0m current_span \u001b[38;5;241m=\u001b[39m trace\u001b[38;5;241m.\u001b[39mget_current_span()\n\u001b[0;32m    100\u001b[0m tp_header \u001b[38;5;241m=\u001b[39m \u001b[38;5;28;01mNone\u001b[39;00m\n",
      "File \u001b[1;32mc:\\Users\\Michel Burgos\\OneDrive\\Documentos\\GitHub\\Workshop-1\\venv\\Lib\\site-packages\\mysql\\connector\\connection_cext.py:763\u001b[0m, in \u001b[0;36mCMySQLConnection.cmd_query\u001b[1;34m(self, query, raw, buffered, raw_as_string, **kwargs)\u001b[0m\n\u001b[0;32m    755\u001b[0m     \u001b[38;5;28mself\u001b[39m\u001b[38;5;241m.\u001b[39m_cmysql\u001b[38;5;241m.\u001b[39mquery(\n\u001b[0;32m    756\u001b[0m         query,\n\u001b[0;32m    757\u001b[0m         raw\u001b[38;5;241m=\u001b[39mraw,\n\u001b[1;32m   (...)\u001b[0m\n\u001b[0;32m    760\u001b[0m         query_attrs\u001b[38;5;241m=\u001b[39m\u001b[38;5;28mself\u001b[39m\u001b[38;5;241m.\u001b[39mquery_attrs,\n\u001b[0;32m    761\u001b[0m     )\n\u001b[0;32m    762\u001b[0m \u001b[38;5;28;01mexcept\u001b[39;00m MySQLInterfaceError \u001b[38;5;28;01mas\u001b[39;00m err:\n\u001b[1;32m--> 763\u001b[0m     \u001b[38;5;28;01mraise\u001b[39;00m get_mysql_exception(\n\u001b[0;32m    764\u001b[0m         err\u001b[38;5;241m.\u001b[39merrno, msg\u001b[38;5;241m=\u001b[39merr\u001b[38;5;241m.\u001b[39mmsg, sqlstate\u001b[38;5;241m=\u001b[39merr\u001b[38;5;241m.\u001b[39msqlstate\n\u001b[0;32m    765\u001b[0m     ) \u001b[38;5;28;01mfrom\u001b[39;00m\u001b[38;5;250m \u001b[39m\u001b[38;5;21;01merr\u001b[39;00m\n\u001b[0;32m    766\u001b[0m \u001b[38;5;28;01mexcept\u001b[39;00m \u001b[38;5;167;01mAttributeError\u001b[39;00m \u001b[38;5;28;01mas\u001b[39;00m err:\n\u001b[0;32m    767\u001b[0m     addr \u001b[38;5;241m=\u001b[39m (\n\u001b[0;32m    768\u001b[0m         \u001b[38;5;28mself\u001b[39m\u001b[38;5;241m.\u001b[39m_unix_socket \u001b[38;5;28;01mif\u001b[39;00m \u001b[38;5;28mself\u001b[39m\u001b[38;5;241m.\u001b[39m_unix_socket \u001b[38;5;28;01melse\u001b[39;00m \u001b[38;5;124mf\u001b[39m\u001b[38;5;124m\"\u001b[39m\u001b[38;5;132;01m{\u001b[39;00m\u001b[38;5;28mself\u001b[39m\u001b[38;5;241m.\u001b[39m_host\u001b[38;5;132;01m}\u001b[39;00m\u001b[38;5;124m:\u001b[39m\u001b[38;5;132;01m{\u001b[39;00m\u001b[38;5;28mself\u001b[39m\u001b[38;5;241m.\u001b[39m_port\u001b[38;5;132;01m}\u001b[39;00m\u001b[38;5;124m\"\u001b[39m\n\u001b[0;32m    769\u001b[0m     )\n",
      "\u001b[1;31mDataError\u001b[0m: 1406 (22001): Data too long for column 'country' at row 1"
     ]
    }
   ],
   "source": [
    "# Importar bibliotecas\n",
    "import pandas as pd\n",
    "import sys\n",
    "\n",
    "# Agregar la carpeta source al path para importar la conexión\n",
    "sys.path.append('../source')\n",
    "from connection_mysql import get_connection\n",
    "\n",
    "# Cargar el archivo CSV\n",
    "df = pd.read_csv('../data/candidates.csv', sep=';')\n",
    "\n",
    "print(df.head())  # Verifica que las columnas se cargan correctamente\n",
    "\n",
    "\n",
    "\n",
    "# Obtener la conexión a la base de datos\n",
    "conexion = get_connection()\n",
    "\n",
    "if conexion:\n",
    "    cursor = conexion.cursor()\n",
    "\n",
    "    # Insertar los datos en la tabla raw_candidates\n",
    "    insert_query = \"\"\"\n",
    "    INSERT INTO raw_candidates (first_name, last_name, email, country, application_date, yoe, seniority, technology, code_challenge_score, technical_interview_score)\n",
    "    VALUES (%s, %s, %s, %s, %s, %s, %s, %s, %s, %s)\n",
    "    \"\"\"\n",
    "\n",
    "    for _, row in df.iterrows():\n",
    "        valores = (\n",
    "            row['First Name'], row['Last Name'], row['Email'], row['Country'],\n",
    "            row['Application Date'], row['YOE'], row['Seniority'], row['Technology'],\n",
    "            row['Code Challenge Score'], row['Technical Interview Score']\n",
    "        )\n",
    "\n",
    "        cursor.execute(insert_query, valores)\n",
    "\n",
    "    # Confirmar la transacción\n",
    "    conexion.commit()\n",
    "\n",
    "    # Cerrar la conexión\n",
    "    cursor.close()\n",
    "    conexion.close()\n",
    "\n",
    "    print(\"Datos cargados exitosamente en la tabla 'raw_candidates'.\")\n",
    "else:\n",
    "    print(\"No se pudo establecer la conexión a la base de datos.\")\n"
   ]
  }
 ],
 "metadata": {
  "kernelspec": {
   "display_name": "venv",
   "language": "python",
   "name": "python3"
  },
  "language_info": {
   "codemirror_mode": {
    "name": "ipython",
    "version": 3
   },
   "file_extension": ".py",
   "mimetype": "text/x-python",
   "name": "python",
   "nbconvert_exporter": "python",
   "pygments_lexer": "ipython3",
   "version": "3.11.4"
  }
 },
 "nbformat": 4,
 "nbformat_minor": 2
}
