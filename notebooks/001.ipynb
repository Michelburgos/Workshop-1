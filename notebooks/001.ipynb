{
 "cells": [
  {
   "cell_type": "code",
   "execution_count": 11,
   "metadata": {},
   "outputs": [],
   "source": [
    "import sys\n",
    "import os\n",
    "import pandas as pd"
   ]
  },
  {
   "cell_type": "code",
   "execution_count": 17,
   "metadata": {},
   "outputs": [
    {
     "name": "stdout",
     "output_type": "stream",
     "text": [
      "✅ Conexión a la base de datos exitosa.\n"
     ]
    }
   ],
   "source": [
    "sys.path.append(os.path.abspath('../source'))\n",
    "\n",
    "from connection_mysql import get_connection\n",
    "\n",
    "conexion = get_connection()"
   ]
  },
  {
   "cell_type": "code",
   "execution_count": 13,
   "metadata": {},
   "outputs": [
    {
     "name": "stdout",
     "output_type": "stream",
     "text": [
      "Tabla 'raw_candidates' creada exitosamente.\n"
     ]
    }
   ],
   "source": [
    "\n",
    "if conexion:\n",
    "    cursor = conexion.cursor()\n",
    "\n",
    "    # Crear la tabla raw_candidates (si no existe)\n",
    "    create_table_query = \"\"\"\n",
    "    CREATE TABLE IF NOT EXISTS raw_candidates (\n",
    "        id INT AUTO_INCREMENT PRIMARY KEY,\n",
    "        first_name VARCHAR(100),\n",
    "        last_name VARCHAR(100),\n",
    "        email VARCHAR(100),\n",
    "        country VARCHAR(100),\n",
    "        application_date DATE,\n",
    "        yoe INT,\n",
    "        seniority VARCHAR(100),\n",
    "        technology VARCHAR(100),\n",
    "        code_challenge_score FLOAT,\n",
    "        technical_interview_score FLOAT\n",
    "    );\n",
    "    \"\"\"\n",
    "    cursor.execute(create_table_query)\n",
    "    conexion.commit()\n",
    "\n",
    "    # Cerrar la conexión\n",
    "    cursor.close()\n",
    "    conexion.close()\n",
    "\n",
    "    print(\"Tabla 'raw_candidates' creada exitosamente.\")\n",
    "else:\n",
    "    print(\"No se pudo establecer la conexión a la base de datos.\")\n"
   ]
  },
  {
   "cell_type": "code",
   "execution_count": 14,
   "metadata": {},
   "outputs": [
    {
     "name": "stdout",
     "output_type": "stream",
     "text": [
      "   First Name   Last Name                      Email Application Date  \\\n",
      "0  Bernadette   Langworth        leonard91@yahoo.com       2021-02-26   \n",
      "1      Camryn    Reynolds        zelda56@hotmail.com       2021-09-09   \n",
      "2       Larue      Spinka   okey_schultz41@gmail.com       2020-04-14   \n",
      "3        Arch      Spinka     elvera_kulas@yahoo.com       2020-10-01   \n",
      "4       Larue  Altenwerth  minnie.gislason@gmail.com       2020-05-20   \n",
      "\n",
      "   Country  YOE  Seniority                         Technology  \\\n",
      "0   Norway    2     Intern                      Data Engineer   \n",
      "1   Panama   10     Intern                      Data Engineer   \n",
      "2  Belarus    4  Mid-Level                     Client Success   \n",
      "3  Eritrea   25    Trainee                          QA Manual   \n",
      "4  Myanmar   13  Mid-Level  Social Media Community Management   \n",
      "\n",
      "   Code Challenge Score  Technical Interview Score  \n",
      "0                     3                          3  \n",
      "1                     2                         10  \n",
      "2                    10                          9  \n",
      "3                     7                          1  \n",
      "4                     9                          7  \n"
     ]
    }
   ],
   "source": [
    "import pandas as pd\n",
    "df = pd.read_csv('../data/candidates.csv', sep=';')\n",
    "print(df.head())  # Verifica que las columnas se cargan correctamente\n"
   ]
  },
  {
   "cell_type": "code",
   "execution_count": 18,
   "metadata": {},
   "outputs": [
    {
     "name": "stdout",
     "output_type": "stream",
     "text": [
      "Datos cargados exitosamente en la tabla 'raw_candidates'.\n"
     ]
    }
   ],
   "source": [
    "\n",
    "if conexion:\n",
    "    cursor = conexion.cursor()\n",
    "\n",
    "    # Insertar los datos en la tabla raw_candidates\n",
    "    insert_query = \"\"\"\n",
    "    INSERT INTO raw_candidates (first_name, last_name, email, country, application_date, yoe, seniority, technology, code_challenge_score, technical_interview_score)\n",
    "    VALUES (%s, %s, %s, %s, %s, %s, %s, %s, %s, %s)\n",
    "    \"\"\"\n",
    "\n",
    "    for _, row in df.iterrows():\n",
    "        valores = (\n",
    "            row['First Name'], row['Last Name'], row['Email'], row['Country'],\n",
    "            row['Application Date'], row['YOE'], row['Seniority'], row['Technology'],\n",
    "            row['Code Challenge Score'], row['Technical Interview Score']\n",
    "        )\n",
    "\n",
    "        cursor.execute(insert_query, valores)\n",
    "\n",
    "    # Confirmar la transacción\n",
    "    conexion.commit()\n",
    "\n",
    "    # Cerrar la conexión\n",
    "    cursor.close()\n",
    "    conexion.close()\n",
    "\n",
    "    print(\"Datos cargados exitosamente en la tabla 'raw_candidates'.\")\n",
    "else:\n",
    "    print(\"No se pudo establecer la conexión a la base de datos.\")\n"
   ]
  }
 ],
 "metadata": {
  "kernelspec": {
   "display_name": "venv",
   "language": "python",
   "name": "python3"
  },
  "language_info": {
   "codemirror_mode": {
    "name": "ipython",
    "version": 3
   },
   "file_extension": ".py",
   "mimetype": "text/x-python",
   "name": "python",
   "nbconvert_exporter": "python",
   "pygments_lexer": "ipython3",
   "version": "3.11.4"
  }
 },
 "nbformat": 4,
 "nbformat_minor": 2
}
